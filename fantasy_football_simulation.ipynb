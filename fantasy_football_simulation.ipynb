{
 "cells": [
  {
   "cell_type": "code",
   "execution_count": 130,
   "metadata": {
    "ExecuteTime": {
     "end_time": "2020-12-07T17:14:26.916681Z",
     "start_time": "2020-12-07T17:14:26.908703Z"
    },
    "collapsed": true
   },
   "outputs": [],
   "source": [
    "import pandas as pd\n",
    "import numpy as np\n",
    "import matplotlib.pyplot as plt\n",
    "import seaborn as sns"
   ]
  },
  {
   "cell_type": "code",
   "execution_count": 222,
   "metadata": {
    "ExecuteTime": {
     "end_time": "2020-12-07T18:28:14.245891Z",
     "start_time": "2020-12-07T18:28:14.209241Z"
    }
   },
   "outputs": [
    {
     "data": {
      "text/html": [
       "<div>\n",
       "<style scoped>\n",
       "    .dataframe tbody tr th:only-of-type {\n",
       "        vertical-align: middle;\n",
       "    }\n",
       "\n",
       "    .dataframe tbody tr th {\n",
       "        vertical-align: top;\n",
       "    }\n",
       "\n",
       "    .dataframe thead th {\n",
       "        text-align: right;\n",
       "    }\n",
       "</style>\n",
       "<table border=\"1\" class=\"dataframe\">\n",
       "  <thead>\n",
       "    <tr style=\"text-align: right;\">\n",
       "      <th></th>\n",
       "      <th>Week</th>\n",
       "      <th>Eric</th>\n",
       "      <th>Quinn</th>\n",
       "      <th>Nate</th>\n",
       "      <th>Ben</th>\n",
       "      <th>Nick</th>\n",
       "      <th>Lo</th>\n",
       "    </tr>\n",
       "  </thead>\n",
       "  <tbody>\n",
       "    <tr>\n",
       "      <th>6</th>\n",
       "      <td>7</td>\n",
       "      <td>105.50</td>\n",
       "      <td>121.56</td>\n",
       "      <td>105.66</td>\n",
       "      <td>79.62</td>\n",
       "      <td>126.24</td>\n",
       "      <td>108.40</td>\n",
       "    </tr>\n",
       "    <tr>\n",
       "      <th>7</th>\n",
       "      <td>8</td>\n",
       "      <td>112.34</td>\n",
       "      <td>122.14</td>\n",
       "      <td>108.62</td>\n",
       "      <td>97.34</td>\n",
       "      <td>83.76</td>\n",
       "      <td>96.72</td>\n",
       "    </tr>\n",
       "    <tr>\n",
       "      <th>8</th>\n",
       "      <td>9</td>\n",
       "      <td>112.94</td>\n",
       "      <td>114.50</td>\n",
       "      <td>104.42</td>\n",
       "      <td>88.00</td>\n",
       "      <td>74.06</td>\n",
       "      <td>87.30</td>\n",
       "    </tr>\n",
       "    <tr>\n",
       "      <th>9</th>\n",
       "      <td>10</td>\n",
       "      <td>109.14</td>\n",
       "      <td>96.00</td>\n",
       "      <td>101.32</td>\n",
       "      <td>81.82</td>\n",
       "      <td>110.14</td>\n",
       "      <td>102.46</td>\n",
       "    </tr>\n",
       "    <tr>\n",
       "      <th>10</th>\n",
       "      <td>11</td>\n",
       "      <td>93.58</td>\n",
       "      <td>131.04</td>\n",
       "      <td>114.58</td>\n",
       "      <td>79.88</td>\n",
       "      <td>97.62</td>\n",
       "      <td>105.24</td>\n",
       "    </tr>\n",
       "  </tbody>\n",
       "</table>\n",
       "</div>"
      ],
      "text/plain": [
       "    Week    Eric   Quinn    Nate    Ben    Nick      Lo\n",
       "6      7  105.50  121.56  105.66  79.62  126.24  108.40\n",
       "7      8  112.34  122.14  108.62  97.34   83.76   96.72\n",
       "8      9  112.94  114.50  104.42  88.00   74.06   87.30\n",
       "9     10  109.14   96.00  101.32  81.82  110.14  102.46\n",
       "10    11   93.58  131.04  114.58  79.88   97.62  105.24"
      ]
     },
     "execution_count": 222,
     "metadata": {},
     "output_type": "execute_result"
    }
   ],
   "source": [
    "df = pd.read_csv('fantasy_football_sim.csv')\n",
    "df = df[df.Week>=7]\n",
    "df.head()"
   ]
  },
  {
   "cell_type": "code",
   "execution_count": 223,
   "metadata": {
    "ExecuteTime": {
     "end_time": "2020-12-07T18:28:14.792330Z",
     "start_time": "2020-12-07T18:28:14.680402Z"
    },
    "collapsed": true
   },
   "outputs": [],
   "source": [
    "players = {\n",
    "    'Eric': {'mean_score':df['Eric'].mean()\n",
    "            ,'stdev_score':df['Eric'].std()},\n",
    "    'Quinn': {'mean_score':df['Quinn'].mean()\n",
    "            ,'stdev_score':df['Quinn'].std()},\n",
    "    'Nate': {'mean_score':df['Nate'].mean()\n",
    "            ,'stdev_score':df['Nate'].std()},\n",
    "    'Ben': {'mean_score':df['Ben'].mean()\n",
    "            ,'stdev_score':df['Ben'].std()},\n",
    "    'Nick': {'mean_score':df['Nick'].mean()\n",
    "            ,'stdev_score':df['Nick'].std()},\n",
    "    'Lo': {'mean_score':df['Lo'].mean()\n",
    "            ,'stdev_score':df['Lo'].std()},\n",
    "}"
   ]
  },
  {
   "cell_type": "code",
   "execution_count": 224,
   "metadata": {
    "ExecuteTime": {
     "end_time": "2020-12-07T18:28:15.374114Z",
     "start_time": "2020-12-07T18:28:15.274773Z"
    }
   },
   "outputs": [
    {
     "data": {
      "text/plain": [
       "{'Ben': {'mean_score': 85.24333333333334, 'stdev_score': 6.726537494630257},\n",
       " 'Eric': {'mean_score': 103.14999999999999, 'stdev_score': 11.210264938885253},\n",
       " 'Lo': {'mean_score': 103.39, 'stdev_score': 11.099670265372751},\n",
       " 'Nate': {'mean_score': 103.25333333333333, 'stdev_score': 10.040881767388093},\n",
       " 'Nick': {'mean_score': 107.15333333333332, 'stdev_score': 28.41771184783649},\n",
       " 'Quinn': {'mean_score': 117.48, 'stdev_score': 11.808234415017342}}"
      ]
     },
     "execution_count": 224,
     "metadata": {},
     "output_type": "execute_result"
    }
   ],
   "source": [
    "players"
   ]
  },
  {
   "cell_type": "code",
   "execution_count": 225,
   "metadata": {
    "ExecuteTime": {
     "end_time": "2020-12-07T18:28:15.970090Z",
     "start_time": "2020-12-07T18:28:15.929422Z"
    },
    "collapsed": true
   },
   "outputs": [],
   "source": [
    "def matchup(player1, player2):\n",
    "    \"\"\"\n",
    "    Match up two players using their historic mean and stdev of scores. \n",
    "    Return the one who has the higher score when put into a normal distributin\n",
    "    \"\"\"\n",
    "    p1_score = np.random.normal(players[player1]['mean_score'], players[player1]['stdev_score'])\n",
    "    p2_score = np.random.normal(players[player2]['mean_score'], players[player2]['stdev_score'])\n",
    "    \n",
    "    if p1_score >= p2_score:\n",
    "        return player1\n",
    "    else:\n",
    "        return player2"
   ]
  },
  {
   "cell_type": "markdown",
   "metadata": {},
   "source": [
    "# Abington Heights League"
   ]
  },
  {
   "cell_type": "code",
   "execution_count": 226,
   "metadata": {
    "ExecuteTime": {
     "end_time": "2020-12-07T18:28:16.715556Z",
     "start_time": "2020-12-07T18:28:16.699381Z"
    },
    "collapsed": true
   },
   "outputs": [],
   "source": [
    "def simulate():\n",
    "    \n",
    "    quarterfinal1 = matchup('Ben', 'Lo')\n",
    "    quarterfinal2 = matchup('Quinn', 'Nick')\n",
    "\n",
    "    \n",
    "    semifinal1 = matchup('Nate', quarterfinal1)\n",
    "    semifinal2 = matchup('Eric', quarterfinal2)\n",
    "    \n",
    "\n",
    "    final = matchup(semifinal1, semifinal2)\n",
    "    \n",
    "    return final \n",
    "    "
   ]
  },
  {
   "cell_type": "code",
   "execution_count": 232,
   "metadata": {
    "ExecuteTime": {
     "end_time": "2020-12-07T18:31:50.854496Z",
     "start_time": "2020-12-07T18:31:44.510670Z"
    }
   },
   "outputs": [],
   "source": [
    "wins = []\n",
    "\n",
    "for i in range(200000):\n",
    "    wins.append(simulate())"
   ]
  },
  {
   "cell_type": "code",
   "execution_count": 233,
   "metadata": {
    "ExecuteTime": {
     "end_time": "2020-12-07T18:31:51.427137Z",
     "start_time": "2020-12-07T18:31:51.381382Z"
    }
   },
   "outputs": [],
   "source": [
    "percents = pd.Series(wins).value_counts(normalize=True, \n",
    "                                        sort=True, \n",
    "                                        ascending=False, \n",
    "                                        bins=None, \n",
    "                                        dropna=True\n",
    "                                       )"
   ]
  },
  {
   "cell_type": "code",
   "execution_count": 234,
   "metadata": {
    "ExecuteTime": {
     "end_time": "2020-12-07T18:31:52.291886Z",
     "start_time": "2020-12-07T18:31:52.192447Z"
    }
   },
   "outputs": [
    {
     "data": {
      "text/html": [
       "<div>\n",
       "<style scoped>\n",
       "    .dataframe tbody tr th:only-of-type {\n",
       "        vertical-align: middle;\n",
       "    }\n",
       "\n",
       "    .dataframe tbody tr th {\n",
       "        vertical-align: top;\n",
       "    }\n",
       "\n",
       "    .dataframe thead th {\n",
       "        text-align: right;\n",
       "    }\n",
       "</style>\n",
       "<table border=\"1\" class=\"dataframe\">\n",
       "  <thead>\n",
       "    <tr style=\"text-align: right;\">\n",
       "      <th></th>\n",
       "      <th>index</th>\n",
       "      <th>Win Probability</th>\n",
       "    </tr>\n",
       "  </thead>\n",
       "  <tbody>\n",
       "    <tr>\n",
       "      <th>0</th>\n",
       "      <td>Quinn</td>\n",
       "      <td>0.417445</td>\n",
       "    </tr>\n",
       "    <tr>\n",
       "      <th>1</th>\n",
       "      <td>Nate</td>\n",
       "      <td>0.170540</td>\n",
       "    </tr>\n",
       "    <tr>\n",
       "      <th>2</th>\n",
       "      <td>Lo</td>\n",
       "      <td>0.155840</td>\n",
       "    </tr>\n",
       "    <tr>\n",
       "      <th>3</th>\n",
       "      <td>Eric</td>\n",
       "      <td>0.143310</td>\n",
       "    </tr>\n",
       "    <tr>\n",
       "      <th>4</th>\n",
       "      <td>Nick</td>\n",
       "      <td>0.112440</td>\n",
       "    </tr>\n",
       "  </tbody>\n",
       "</table>\n",
       "</div>"
      ],
      "text/plain": [
       "   index  Win Probability\n",
       "0  Quinn         0.417445\n",
       "1   Nate         0.170540\n",
       "2     Lo         0.155840\n",
       "3   Eric         0.143310\n",
       "4   Nick         0.112440"
      ]
     },
     "execution_count": 234,
     "metadata": {},
     "output_type": "execute_result"
    }
   ],
   "source": [
    "percent_df = pd.DataFrame(percents, columns=['Win Probability']).reset_index()\n",
    "percent_df.head()"
   ]
  },
  {
   "cell_type": "code",
   "execution_count": 235,
   "metadata": {
    "ExecuteTime": {
     "end_time": "2020-12-07T18:31:53.192480Z",
     "start_time": "2020-12-07T18:31:53.061211Z"
    }
   },
   "outputs": [
    {
     "name": "stdout",
     "output_type": "stream",
     "text": [
      "0.417445\n",
      "0.17054\n",
      "0.15584\n",
      "0.14331\n",
      "0.11244\n",
      "0.000425\n"
     ]
    }
   ],
   "source": [
    "for i, row in percent_df.iterrows():\n",
    "    print(row[1])"
   ]
  },
  {
   "cell_type": "code",
   "execution_count": 239,
   "metadata": {
    "ExecuteTime": {
     "end_time": "2020-12-07T18:35:07.360035Z",
     "start_time": "2020-12-07T18:35:07.136842Z"
    }
   },
   "outputs": [
    {
     "data": {
      "image/png": "[encoded data removed]",
      "text/plain": [
       "<matplotlib.figure.Figure at 0x1205843c8>"
      ]
     },
     "metadata": {},
     "output_type": "display_data"
    }
   ],
   "source": [
    "sns.set_style(\"whitegrid\")\n",
    "sns.set_palette(sns.color_palette(\"coolwarm\"))\n",
    "\n",
    "plt.figure(figsize=(10, 6))\n",
    "sns.barplot(percent_df.index, percent_df['Win Probability'])\n",
    "\n",
    "for i, row in percent_df.iterrows():\n",
    "    plt.text(  i\n",
    "             , row[1]+.01\n",
    "             , s=\"{:.2%}\".format(round(row[1], 5))\n",
    "             , color='black'\n",
    "             , ha=\"center\"\n",
    "             , fontsize=11\n",
    "            )\n",
    "    \n",
    "plt.xticks(range(6), percent_df['index'], fontsize=12)\n",
    "plt.yticks(fontsize=12)\n",
    "plt.title('Probability of Winning the League (200k simulations)', fontsize=16)\n",
    "plt.ylabel('Win Probability', fontsize=14)\n",
    "plt.xlabel('Team', fontsize=14)\n",
    "plt.ylim(0, .5)\n",
    "plt.show()"
   ]
  },
  {
   "cell_type": "markdown",
   "metadata": {},
   "source": [
    "# Lo's League"
   ]
  },
  {
   "cell_type": "code",
   "execution_count": 246,
   "metadata": {
    "ExecuteTime": {
     "end_time": "2020-12-07T18:40:09.472112Z",
     "start_time": "2020-12-07T18:40:09.441773Z"
    }
   },
   "outputs": [
    {
     "data": {
      "text/html": [
       "<div>\n",
       "<style scoped>\n",
       "    .dataframe tbody tr th:only-of-type {\n",
       "        vertical-align: middle;\n",
       "    }\n",
       "\n",
       "    .dataframe tbody tr th {\n",
       "        vertical-align: top;\n",
       "    }\n",
       "\n",
       "    .dataframe thead th {\n",
       "        text-align: right;\n",
       "    }\n",
       "</style>\n",
       "<table border=\"1\" class=\"dataframe\">\n",
       "  <thead>\n",
       "    <tr style=\"text-align: right;\">\n",
       "      <th></th>\n",
       "      <th>Week</th>\n",
       "      <th>Lo</th>\n",
       "      <th>Dylan</th>\n",
       "      <th>Krieger</th>\n",
       "      <th>North</th>\n",
       "      <th>Jake</th>\n",
       "      <th>Peter</th>\n",
       "    </tr>\n",
       "  </thead>\n",
       "  <tbody>\n",
       "    <tr>\n",
       "      <th>7</th>\n",
       "      <td>8</td>\n",
       "      <td>155.96</td>\n",
       "      <td>162.59</td>\n",
       "      <td>115.21</td>\n",
       "      <td>140.62</td>\n",
       "      <td>92.22</td>\n",
       "      <td>121.54</td>\n",
       "    </tr>\n",
       "    <tr>\n",
       "      <th>8</th>\n",
       "      <td>9</td>\n",
       "      <td>153.05</td>\n",
       "      <td>109.69</td>\n",
       "      <td>95.84</td>\n",
       "      <td>114.90</td>\n",
       "      <td>78.94</td>\n",
       "      <td>119.24</td>\n",
       "    </tr>\n",
       "    <tr>\n",
       "      <th>9</th>\n",
       "      <td>10</td>\n",
       "      <td>93.88</td>\n",
       "      <td>101.60</td>\n",
       "      <td>116.46</td>\n",
       "      <td>90.85</td>\n",
       "      <td>131.45</td>\n",
       "      <td>124.86</td>\n",
       "    </tr>\n",
       "    <tr>\n",
       "      <th>10</th>\n",
       "      <td>11</td>\n",
       "      <td>116.82</td>\n",
       "      <td>140.21</td>\n",
       "      <td>174.80</td>\n",
       "      <td>130.10</td>\n",
       "      <td>156.53</td>\n",
       "      <td>96.32</td>\n",
       "    </tr>\n",
       "    <tr>\n",
       "      <th>11</th>\n",
       "      <td>12</td>\n",
       "      <td>145.67</td>\n",
       "      <td>170.23</td>\n",
       "      <td>87.95</td>\n",
       "      <td>76.77</td>\n",
       "      <td>125.05</td>\n",
       "      <td>119.63</td>\n",
       "    </tr>\n",
       "  </tbody>\n",
       "</table>\n",
       "</div>"
      ],
      "text/plain": [
       "    Week      Lo   Dylan  Krieger   North    Jake   Peter\n",
       "7      8  155.96  162.59   115.21  140.62   92.22  121.54\n",
       "8      9  153.05  109.69    95.84  114.90   78.94  119.24\n",
       "9     10   93.88  101.60   116.46   90.85  131.45  124.86\n",
       "10    11  116.82  140.21   174.80  130.10  156.53   96.32\n",
       "11    12  145.67  170.23    87.95   76.77  125.05  119.63"
      ]
     },
     "execution_count": 246,
     "metadata": {},
     "output_type": "execute_result"
    }
   ],
   "source": [
    "df = pd.read_csv('lo_fantasy.csv')\n",
    "df = df[df.Week>=7]\n",
    "df.head()"
   ]
  },
  {
   "cell_type": "code",
   "execution_count": 247,
   "metadata": {
    "ExecuteTime": {
     "end_time": "2020-12-07T18:40:10.358979Z",
     "start_time": "2020-12-07T18:40:10.340052Z"
    },
    "collapsed": true
   },
   "outputs": [],
   "source": [
    "players = {\n",
    "    'Lo': {'mean_score':df['Lo'].mean()\n",
    "            ,'stdev_score':df['Lo'].std()},\n",
    "    'Dylan': {'mean_score':df['Dylan'].mean()\n",
    "            ,'stdev_score':df['Dylan'].std()},\n",
    "    'Krieger': {'mean_score':df['Krieger'].mean()\n",
    "            ,'stdev_score':df['Krieger'].std()},\n",
    "    'North': {'mean_score':df['North'].mean()\n",
    "            ,'stdev_score':df['North'].std()},\n",
    "    'Jake': {'mean_score':df['Jake'].mean()\n",
    "            ,'stdev_score':df['Jake'].std()},\n",
    "    'Peter': {'mean_score':df['Peter'].mean()\n",
    "            ,'stdev_score':df['Peter'].std()},\n",
    "}"
   ]
  },
  {
   "cell_type": "code",
   "execution_count": 248,
   "metadata": {
    "ExecuteTime": {
     "end_time": "2020-12-07T18:40:11.280359Z",
     "start_time": "2020-12-07T18:40:11.262846Z"
    },
    "collapsed": true
   },
   "outputs": [],
   "source": [
    "def simulate():\n",
    "    \n",
    "    quarterfinal1 = matchup('Lo', 'Peter')\n",
    "    quarterfinal2 = matchup('Krieger', 'North')\n",
    "\n",
    "    \n",
    "    semifinal1 = matchup('Dylan', quarterfinal1)\n",
    "    semifinal2 = matchup('Jake', quarterfinal2)\n",
    "    \n",
    "\n",
    "    final = matchup(semifinal1, semifinal2)\n",
    "    \n",
    "    return final \n",
    "    "
   ]
  },
  {
   "cell_type": "code",
   "execution_count": 249,
   "metadata": {
    "ExecuteTime": {
     "end_time": "2020-12-07T18:40:15.644057Z",
     "start_time": "2020-12-07T18:40:12.494566Z"
    }
   },
   "outputs": [],
   "source": [
    "wins = []\n",
    "\n",
    "for i in range(100000):\n",
    "    wins.append(simulate())"
   ]
  },
  {
   "cell_type": "code",
   "execution_count": 244,
   "metadata": {
    "ExecuteTime": {
     "end_time": "2020-12-07T18:40:01.370989Z",
     "start_time": "2020-12-07T18:40:01.288699Z"
    }
   },
   "outputs": [
    {
     "data": {
      "text/plain": [
       "Dylan      0.40954\n",
       "Lo         0.21794\n",
       "Jake       0.17927\n",
       "Krieger    0.10224\n",
       "North      0.05271\n",
       "Peter      0.03830\n",
       "dtype: float64"
      ]
     },
     "execution_count": 244,
     "metadata": {},
     "output_type": "execute_result"
    }
   ],
   "source": [
    "percents = pd.Series(wins).value_counts(normalize=True, \n",
    "                                        sort=True, \n",
    "                                        ascending=False, \n",
    "                                        bins=None, \n",
    "                                        dropna=True\n",
    "                                       )\n",
    "\n",
    "percents"
   ]
  },
  {
   "cell_type": "code",
   "execution_count": 250,
   "metadata": {
    "ExecuteTime": {
     "end_time": "2020-12-07T18:40:28.565216Z",
     "start_time": "2020-12-07T18:40:28.541966Z"
    }
   },
   "outputs": [
    {
     "data": {
      "text/html": [
       "<div>\n",
       "<style scoped>\n",
       "    .dataframe tbody tr th:only-of-type {\n",
       "        vertical-align: middle;\n",
       "    }\n",
       "\n",
       "    .dataframe tbody tr th {\n",
       "        vertical-align: top;\n",
       "    }\n",
       "\n",
       "    .dataframe thead th {\n",
       "        text-align: right;\n",
       "    }\n",
       "</style>\n",
       "<table border=\"1\" class=\"dataframe\">\n",
       "  <thead>\n",
       "    <tr style=\"text-align: right;\">\n",
       "      <th></th>\n",
       "      <th>index</th>\n",
       "      <th>Win Probability</th>\n",
       "    </tr>\n",
       "  </thead>\n",
       "  <tbody>\n",
       "    <tr>\n",
       "      <th>0</th>\n",
       "      <td>Dylan</td>\n",
       "      <td>0.40954</td>\n",
       "    </tr>\n",
       "    <tr>\n",
       "      <th>1</th>\n",
       "      <td>Lo</td>\n",
       "      <td>0.21794</td>\n",
       "    </tr>\n",
       "    <tr>\n",
       "      <th>2</th>\n",
       "      <td>Jake</td>\n",
       "      <td>0.17927</td>\n",
       "    </tr>\n",
       "    <tr>\n",
       "      <th>3</th>\n",
       "      <td>Krieger</td>\n",
       "      <td>0.10224</td>\n",
       "    </tr>\n",
       "    <tr>\n",
       "      <th>4</th>\n",
       "      <td>North</td>\n",
       "      <td>0.05271</td>\n",
       "    </tr>\n",
       "  </tbody>\n",
       "</table>\n",
       "</div>"
      ],
      "text/plain": [
       "     index  Win Probability\n",
       "0    Dylan          0.40954\n",
       "1       Lo          0.21794\n",
       "2     Jake          0.17927\n",
       "3  Krieger          0.10224\n",
       "4    North          0.05271"
      ]
     },
     "execution_count": 250,
     "metadata": {},
     "output_type": "execute_result"
    }
   ],
   "source": [
    "percent_df = pd.DataFrame(percents, columns=['Win Probability']).reset_index()\n",
    "percent_df.head()"
   ]
  },
  {
   "cell_type": "code",
   "execution_count": 251,
   "metadata": {
    "ExecuteTime": {
     "end_time": "2020-12-07T18:40:29.821825Z",
     "start_time": "2020-12-07T18:40:29.601775Z"
    }
   },
   "outputs": [
    {
     "data": {
      "image/png": "[encoded data removed]",
      "text/plain": [
       "<matplotlib.figure.Figure at 0x12017ca90>"
      ]
     },
     "metadata": {},
     "output_type": "display_data"
    }
   ],
   "source": [
    "sns.set_style(\"whitegrid\")\n",
    "sns.set_palette(sns.color_palette(\"coolwarm\"))\n",
    "\n",
    "plt.figure(figsize=(10, 6))\n",
    "sns.barplot(percent_df.index, percent_df['Win Probability'])\n",
    "\n",
    "for i, row in percent_df.iterrows():\n",
    "    plt.text(  i\n",
    "             , row[1]+.01\n",
    "             , s=\"{:.2%}\".format(round(row[1], 5))\n",
    "             , color='black'\n",
    "             , ha=\"center\"\n",
    "             , fontsize=11\n",
    "            )\n",
    "    \n",
    "plt.xticks(range(6), percent_df['index'], fontsize=12)\n",
    "plt.yticks(fontsize=12)\n",
    "plt.title('Probability of Winning the League (200k simulations)', fontsize=16)\n",
    "plt.ylabel('Win Probability', fontsize=14)\n",
    "plt.xlabel('Team', fontsize=14)\n",
    "plt.ylim(0, .5)\n",
    "plt.show()"
   ]
  },
  {
   "cell_type": "markdown",
   "metadata": {},
   "source": [
    "# DKE League"
   ]
  },
  {
   "cell_type": "code",
   "execution_count": 253,
   "metadata": {
    "ExecuteTime": {
     "end_time": "2020-12-07T21:24:47.765671Z",
     "start_time": "2020-12-07T21:24:47.728743Z"
    },
    "scrolled": true
   },
   "outputs": [
    {
     "data": {
      "text/html": [
       "<div>\n",
       "<style scoped>\n",
       "    .dataframe tbody tr th:only-of-type {\n",
       "        vertical-align: middle;\n",
       "    }\n",
       "\n",
       "    .dataframe tbody tr th {\n",
       "        vertical-align: top;\n",
       "    }\n",
       "\n",
       "    .dataframe thead th {\n",
       "        text-align: right;\n",
       "    }\n",
       "</style>\n",
       "<table border=\"1\" class=\"dataframe\">\n",
       "  <thead>\n",
       "    <tr style=\"text-align: right;\">\n",
       "      <th></th>\n",
       "      <th>Week</th>\n",
       "      <th>Eric</th>\n",
       "      <th>Caltz</th>\n",
       "      <th>Slum</th>\n",
       "      <th>Na</th>\n",
       "      <th>Zack</th>\n",
       "      <th>Kinnaird</th>\n",
       "    </tr>\n",
       "  </thead>\n",
       "  <tbody>\n",
       "    <tr>\n",
       "      <th>6</th>\n",
       "      <td>7</td>\n",
       "      <td>102.22</td>\n",
       "      <td>120.34</td>\n",
       "      <td>174.12</td>\n",
       "      <td>87.68</td>\n",
       "      <td>50.42</td>\n",
       "      <td>109.10</td>\n",
       "    </tr>\n",
       "    <tr>\n",
       "      <th>7</th>\n",
       "      <td>8</td>\n",
       "      <td>110.58</td>\n",
       "      <td>130.12</td>\n",
       "      <td>119.52</td>\n",
       "      <td>100.86</td>\n",
       "      <td>111.34</td>\n",
       "      <td>105.74</td>\n",
       "    </tr>\n",
       "    <tr>\n",
       "      <th>8</th>\n",
       "      <td>9</td>\n",
       "      <td>120.14</td>\n",
       "      <td>100.50</td>\n",
       "      <td>98.54</td>\n",
       "      <td>135.50</td>\n",
       "      <td>116.26</td>\n",
       "      <td>123.98</td>\n",
       "    </tr>\n",
       "    <tr>\n",
       "      <th>9</th>\n",
       "      <td>10</td>\n",
       "      <td>100.34</td>\n",
       "      <td>122.16</td>\n",
       "      <td>102.98</td>\n",
       "      <td>111.46</td>\n",
       "      <td>78.82</td>\n",
       "      <td>109.16</td>\n",
       "    </tr>\n",
       "    <tr>\n",
       "      <th>10</th>\n",
       "      <td>11</td>\n",
       "      <td>110.35</td>\n",
       "      <td>141.50</td>\n",
       "      <td>141.24</td>\n",
       "      <td>115.26</td>\n",
       "      <td>135.60</td>\n",
       "      <td>136.42</td>\n",
       "    </tr>\n",
       "  </tbody>\n",
       "</table>\n",
       "</div>"
      ],
      "text/plain": [
       "    Week    Eric   Caltz    Slum      Na    Zack  Kinnaird\n",
       "6      7  102.22  120.34  174.12   87.68   50.42    109.10\n",
       "7      8  110.58  130.12  119.52  100.86  111.34    105.74\n",
       "8      9  120.14  100.50   98.54  135.50  116.26    123.98\n",
       "9     10  100.34  122.16  102.98  111.46   78.82    109.16\n",
       "10    11  110.35  141.50  141.24  115.26  135.60    136.42"
      ]
     },
     "execution_count": 253,
     "metadata": {},
     "output_type": "execute_result"
    }
   ],
   "source": [
    "df = pd.read_csv('fantasy_football_sim_dke.csv')\n",
    "df = df[df.Week>=7]\n",
    "df.head()"
   ]
  },
  {
   "cell_type": "code",
   "execution_count": 255,
   "metadata": {
    "ExecuteTime": {
     "end_time": "2020-12-07T21:25:02.341686Z",
     "start_time": "2020-12-07T21:25:02.326419Z"
    }
   },
   "outputs": [],
   "source": [
    "players = {\n",
    "    'Eric': {'mean_score':df['Eric'].mean()\n",
    "            ,'stdev_score':df['Eric'].std()},\n",
    "    'Caltz': {'mean_score':df['Caltz'].mean()\n",
    "            ,'stdev_score':df['Caltz'].std()},\n",
    "    'Slum': {'mean_score':df['Slum'].mean()\n",
    "            ,'stdev_score':df['Slum'].std()},\n",
    "    'Na': {'mean_score':df['Na'].mean()\n",
    "            ,'stdev_score':df['Na'].std()},\n",
    "    'Zack': {'mean_score':df['Zack'].mean()\n",
    "            ,'stdev_score':df['Zack'].std()},\n",
    "    'Kinnaird': {'mean_score':df['Kinnaird'].mean()\n",
    "            ,'stdev_score':df['Kinnaird'].std()},\n",
    "}"
   ]
  },
  {
   "cell_type": "code",
   "execution_count": 258,
   "metadata": {
    "ExecuteTime": {
     "end_time": "2020-12-07T21:25:12.870282Z",
     "start_time": "2020-12-07T21:25:12.851722Z"
    },
    "collapsed": true
   },
   "outputs": [],
   "source": [
    "def simulate():\n",
    "    \n",
    "    quarterfinal1 = matchup('Kinnaird', 'Zack')\n",
    "    quarterfinal2 = matchup('Caltz', 'Eric')\n",
    "\n",
    "    \n",
    "    semifinal1 = matchup('Na', quarterfinal1)\n",
    "    semifinal2 = matchup('Slum', quarterfinal2)\n",
    "    \n",
    "\n",
    "    final = matchup(semifinal1, semifinal2)\n",
    "    \n",
    "    return final \n",
    "    "
   ]
  },
  {
   "cell_type": "code",
   "execution_count": 259,
   "metadata": {
    "ExecuteTime": {
     "end_time": "2020-12-07T21:25:16.464042Z",
     "start_time": "2020-12-07T21:25:13.383243Z"
    }
   },
   "outputs": [],
   "source": [
    "wins = []\n",
    "\n",
    "for i in range(100000):\n",
    "    wins.append(simulate())"
   ]
  },
  {
   "cell_type": "code",
   "execution_count": 260,
   "metadata": {
    "ExecuteTime": {
     "end_time": "2020-12-07T21:25:16.932176Z",
     "start_time": "2020-12-07T21:25:16.877576Z"
    }
   },
   "outputs": [
    {
     "data": {
      "text/plain": [
       "Slum        0.43402\n",
       "Kinnaird    0.25342\n",
       "Na          0.13426\n",
       "Caltz       0.09616\n",
       "Eric        0.05067\n",
       "Zack        0.03147\n",
       "dtype: float64"
      ]
     },
     "execution_count": 260,
     "metadata": {},
     "output_type": "execute_result"
    }
   ],
   "source": [
    "percents = pd.Series(wins).value_counts(normalize=True, \n",
    "                                        sort=True, \n",
    "                                        ascending=False, \n",
    "                                        bins=None, \n",
    "                                        dropna=True\n",
    "                                       )\n",
    "\n",
    "percents"
   ]
  },
  {
   "cell_type": "code",
   "execution_count": 261,
   "metadata": {
    "ExecuteTime": {
     "end_time": "2020-12-07T21:25:17.398471Z",
     "start_time": "2020-12-07T21:25:17.367305Z"
    }
   },
   "outputs": [
    {
     "data": {
      "text/html": [
       "<div>\n",
       "<style scoped>\n",
       "    .dataframe tbody tr th:only-of-type {\n",
       "        vertical-align: middle;\n",
       "    }\n",
       "\n",
       "    .dataframe tbody tr th {\n",
       "        vertical-align: top;\n",
       "    }\n",
       "\n",
       "    .dataframe thead th {\n",
       "        text-align: right;\n",
       "    }\n",
       "</style>\n",
       "<table border=\"1\" class=\"dataframe\">\n",
       "  <thead>\n",
       "    <tr style=\"text-align: right;\">\n",
       "      <th></th>\n",
       "      <th>index</th>\n",
       "      <th>Win Probability</th>\n",
       "    </tr>\n",
       "  </thead>\n",
       "  <tbody>\n",
       "    <tr>\n",
       "      <th>0</th>\n",
       "      <td>Slum</td>\n",
       "      <td>0.43402</td>\n",
       "    </tr>\n",
       "    <tr>\n",
       "      <th>1</th>\n",
       "      <td>Kinnaird</td>\n",
       "      <td>0.25342</td>\n",
       "    </tr>\n",
       "    <tr>\n",
       "      <th>2</th>\n",
       "      <td>Na</td>\n",
       "      <td>0.13426</td>\n",
       "    </tr>\n",
       "    <tr>\n",
       "      <th>3</th>\n",
       "      <td>Caltz</td>\n",
       "      <td>0.09616</td>\n",
       "    </tr>\n",
       "    <tr>\n",
       "      <th>4</th>\n",
       "      <td>Eric</td>\n",
       "      <td>0.05067</td>\n",
       "    </tr>\n",
       "  </tbody>\n",
       "</table>\n",
       "</div>"
      ],
      "text/plain": [
       "      index  Win Probability\n",
       "0      Slum          0.43402\n",
       "1  Kinnaird          0.25342\n",
       "2        Na          0.13426\n",
       "3     Caltz          0.09616\n",
       "4      Eric          0.05067"
      ]
     },
     "execution_count": 261,
     "metadata": {},
     "output_type": "execute_result"
    }
   ],
   "source": [
    "percent_df = pd.DataFrame(percents, columns=['Win Probability']).reset_index()\n",
    "percent_df.head()"
   ]
  },
  {
   "cell_type": "code",
   "execution_count": 262,
   "metadata": {
    "ExecuteTime": {
     "end_time": "2020-12-07T21:25:18.057946Z",
     "start_time": "2020-12-07T21:25:17.817996Z"
    }
   },
   "outputs": [
    {
     "data": {
      "image/png": "[encoded data removed]",
      "text/plain": [
       "<matplotlib.figure.Figure at 0x12088d828>"
      ]
     },
     "metadata": {},
     "output_type": "display_data"
    }
   ],
   "source": [
    "sns.set_style(\"whitegrid\")\n",
    "sns.set_palette(sns.color_palette(\"coolwarm\"))\n",
    "\n",
    "plt.figure(figsize=(10, 6))\n",
    "sns.barplot(percent_df.index, percent_df['Win Probability'])\n",
    "\n",
    "for i, row in percent_df.iterrows():\n",
    "    plt.text(  i\n",
    "             , row[1]+.01\n",
    "             , s=\"{:.2%}\".format(round(row[1], 5))\n",
    "             , color='black'\n",
    "             , ha=\"center\"\n",
    "             , fontsize=11\n",
    "            )\n",
    "    \n",
    "plt.xticks(range(6), percent_df['index'], fontsize=12)\n",
    "plt.yticks(fontsize=12)\n",
    "plt.title('Probability of Winning the League (200k simulations)', fontsize=16)\n",
    "plt.ylabel('Win Probability', fontsize=14)\n",
    "plt.xlabel('Team', fontsize=14)\n",
    "plt.ylim(0, .5)\n",
    "plt.show()"
   ]
  },
  {
   "cell_type": "code",
   "execution_count": null,
   "metadata": {
    "collapsed": true
   },
   "outputs": [],
   "source": []
  }
 ],
 "metadata": {
  "kernelspec": {
   "display_name": "Python 3",
   "language": "python",
   "name": "python3"
  },
  "language_info": {
   "codemirror_mode": {
    "name": "ipython",
    "version": 3
   },
   "file_extension": ".py",
   "mimetype": "text/x-python",
   "name": "python",
   "nbconvert_exporter": "python",
   "pygments_lexer": "ipython3",
   "version": "3.6.3"
  },
  "varInspector": {
   "cols": {
    "lenName": 16,
    "lenType": 16,
    "lenVar": 40
   },
   "kernels_config": {
    "python": {
     "delete_cmd_postfix": "",
     "delete_cmd_prefix": "del ",
     "library": "var_list.py",
     "varRefreshCmd": "print(var_dic_list())"
    },
    "r": {
     "delete_cmd_postfix": ") ",
     "delete_cmd_prefix": "rm(",
     "library": "var_list.r",
     "varRefreshCmd": "cat(var_dic_list()) "
    }
   },
   "types_to_exclude": [
    "module",
    "function",
    "builtin_function_or_method",
    "instance",
    "_Feature"
   ],
   "window_display": false
  }
 },
 "nbformat": 4,
 "nbformat_minor": 2
}
