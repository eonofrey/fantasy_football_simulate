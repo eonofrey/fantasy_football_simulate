{
 "cells": [
  {
   "cell_type": "code",
   "execution_count": 130,
   "metadata": {
    "ExecuteTime": {
     "end_time": "2020-12-07T17:14:26.916681Z",
     "start_time": "2020-12-07T17:14:26.908703Z"
    },
    "collapsed": true
   },
   "outputs": [],
   "source": [
    "import pandas as pd\n",
    "import numpy as np\n",
    "import matplotlib.pyplot as plt\n",
    "import seaborn as sns"
   ]
  },
  {
   "cell_type": "code",
   "execution_count": 131,
   "metadata": {
    "ExecuteTime": {
     "end_time": "2020-12-07T17:14:27.131768Z",
     "start_time": "2020-12-07T17:14:27.122879Z"
    }
   },
   "outputs": [
    {
     "data": {
      "text/plain": [
       "-0.5966437347545973"
      ]
     },
     "execution_count": 131,
     "metadata": {},
     "output_type": "execute_result"
    }
   ],
   "source": [
    "np.random.normal(0, 1)"
   ]
  },
  {
   "cell_type": "code",
   "execution_count": 222,
   "metadata": {
    "ExecuteTime": {
     "end_time": "2020-12-07T18:28:14.245891Z",
     "start_time": "2020-12-07T18:28:14.209241Z"
    }
   },
   "outputs": [
    {
     "data": {
      "text/html": [
       "<div>\n",
       "<style scoped>\n",
       "    .dataframe tbody tr th:only-of-type {\n",
       "        vertical-align: middle;\n",
       "    }\n",
       "\n",
       "    .dataframe tbody tr th {\n",
       "        vertical-align: top;\n",
       "    }\n",
       "\n",
       "    .dataframe thead th {\n",
       "        text-align: right;\n",
       "    }\n",
       "</style>\n",
       "<table border=\"1\" class=\"dataframe\">\n",
       "  <thead>\n",
       "    <tr style=\"text-align: right;\">\n",
       "      <th></th>\n",
       "      <th>Week</th>\n",
       "      <th>Eric</th>\n",
       "      <th>Quinn</th>\n",
       "      <th>Nate</th>\n",
       "      <th>Ben</th>\n",
       "      <th>Nick</th>\n",
       "      <th>Lo</th>\n",
       "    </tr>\n",
       "  </thead>\n",
       "  <tbody>\n",
       "    <tr>\n",
       "      <th>6</th>\n",
       "      <td>7</td>\n",
       "      <td>105.50</td>\n",
       "      <td>121.56</td>\n",
       "      <td>105.66</td>\n",
       "      <td>79.62</td>\n",
       "      <td>126.24</td>\n",
       "      <td>108.40</td>\n",
       "    </tr>\n",
       "    <tr>\n",
       "      <th>7</th>\n",
       "      <td>8</td>\n",
       "      <td>112.34</td>\n",
       "      <td>122.14</td>\n",
       "      <td>108.62</td>\n",
       "      <td>97.34</td>\n",
       "      <td>83.76</td>\n",
       "      <td>96.72</td>\n",
       "    </tr>\n",
       "    <tr>\n",
       "      <th>8</th>\n",
       "      <td>9</td>\n",
       "      <td>112.94</td>\n",
       "      <td>114.50</td>\n",
       "      <td>104.42</td>\n",
       "      <td>88.00</td>\n",
       "      <td>74.06</td>\n",
       "      <td>87.30</td>\n",
       "    </tr>\n",
       "    <tr>\n",
       "      <th>9</th>\n",
       "      <td>10</td>\n",
       "      <td>109.14</td>\n",
       "      <td>96.00</td>\n",
       "      <td>101.32</td>\n",
       "      <td>81.82</td>\n",
       "      <td>110.14</td>\n",
       "      <td>102.46</td>\n",
       "    </tr>\n",
       "    <tr>\n",
       "      <th>10</th>\n",
       "      <td>11</td>\n",
       "      <td>93.58</td>\n",
       "      <td>131.04</td>\n",
       "      <td>114.58</td>\n",
       "      <td>79.88</td>\n",
       "      <td>97.62</td>\n",
       "      <td>105.24</td>\n",
       "    </tr>\n",
       "  </tbody>\n",
       "</table>\n",
       "</div>"
      ],
      "text/plain": [
       "    Week    Eric   Quinn    Nate    Ben    Nick      Lo\n",
       "6      7  105.50  121.56  105.66  79.62  126.24  108.40\n",
       "7      8  112.34  122.14  108.62  97.34   83.76   96.72\n",
       "8      9  112.94  114.50  104.42  88.00   74.06   87.30\n",
       "9     10  109.14   96.00  101.32  81.82  110.14  102.46\n",
       "10    11   93.58  131.04  114.58  79.88   97.62  105.24"
      ]
     },
     "execution_count": 222,
     "metadata": {},
     "output_type": "execute_result"
    }
   ],
   "source": [
    "df = pd.read_csv('fantasy_football_sim.csv')\n",
    "df = df[df.Week>=7]\n",
    "df.head()"
   ]
  },
  {
   "cell_type": "code",
   "execution_count": 223,
   "metadata": {
    "ExecuteTime": {
     "end_time": "2020-12-07T18:28:14.792330Z",
     "start_time": "2020-12-07T18:28:14.680402Z"
    },
    "collapsed": true
   },
   "outputs": [],
   "source": [
    "players = {\n",
    "    'Eric': {'mean_score':df['Eric'].mean()\n",
    "            ,'stdev_score':df['Eric'].std()},\n",
    "    'Quinn': {'mean_score':df['Quinn'].mean()\n",
    "            ,'stdev_score':df['Quinn'].std()},\n",
    "    'Nate': {'mean_score':df['Nate'].mean()\n",
    "            ,'stdev_score':df['Nate'].std()},\n",
    "    'Ben': {'mean_score':df['Ben'].mean()\n",
    "            ,'stdev_score':df['Ben'].std()},\n",
    "    'Nick': {'mean_score':df['Nick'].mean()\n",
    "            ,'stdev_score':df['Nick'].std()},\n",
    "    'Lo': {'mean_score':df['Lo'].mean()\n",
    "            ,'stdev_score':df['Lo'].std()},\n",
    "}"
   ]
  },
  {
   "cell_type": "code",
   "execution_count": 224,
   "metadata": {
    "ExecuteTime": {
     "end_time": "2020-12-07T18:28:15.374114Z",
     "start_time": "2020-12-07T18:28:15.274773Z"
    }
   },
   "outputs": [
    {
     "data": {
      "text/plain": [
       "{'Ben': {'mean_score': 85.24333333333334, 'stdev_score': 6.726537494630257},\n",
       " 'Eric': {'mean_score': 103.14999999999999, 'stdev_score': 11.210264938885253},\n",
       " 'Lo': {'mean_score': 103.39, 'stdev_score': 11.099670265372751},\n",
       " 'Nate': {'mean_score': 103.25333333333333, 'stdev_score': 10.040881767388093},\n",
       " 'Nick': {'mean_score': 107.15333333333332, 'stdev_score': 28.41771184783649},\n",
       " 'Quinn': {'mean_score': 117.48, 'stdev_score': 11.808234415017342}}"
      ]
     },
     "execution_count": 224,
     "metadata": {},
     "output_type": "execute_result"
    }
   ],
   "source": [
    "players"
   ]
  },
  {
   "cell_type": "code",
   "execution_count": 225,
   "metadata": {
    "ExecuteTime": {
     "end_time": "2020-12-07T18:28:15.970090Z",
     "start_time": "2020-12-07T18:28:15.929422Z"
    },
    "collapsed": true
   },
   "outputs": [],
   "source": [
    "def matchup(player1, player2):\n",
    "    \"\"\"\n",
    "    Match up two players using their historic mean and stdev of scores. \n",
    "    Return the one who has the higher score when put into a normal distributin\n",
    "    \"\"\"\n",
    "    p1_score = np.random.normal(players[player1]['mean_score'], players[player1]['stdev_score'])\n",
    "    p2_score = np.random.normal(players[player2]['mean_score'], players[player2]['stdev_score'])\n",
    "    \n",
    "    if p1_score >= p2_score:\n",
    "        return player1\n",
    "    else:\n",
    "        return player2"
   ]
  },
  {
   "cell_type": "markdown",
   "metadata": {},
   "source": [
    "# Abington Heights League"
   ]
  },
  {
   "cell_type": "code",
   "execution_count": 226,
   "metadata": {
    "ExecuteTime": {
     "end_time": "2020-12-07T18:28:16.715556Z",
     "start_time": "2020-12-07T18:28:16.699381Z"
    },
    "collapsed": true
   },
   "outputs": [],
   "source": [
    "def simulate():\n",
    "    \n",
    "    quarterfinal1 = matchup('Ben', 'Lo')\n",
    "    quarterfinal2 = matchup('Quinn', 'Nick')\n",
    "\n",
    "    \n",
    "    semifinal1 = matchup('Nate', quarterfinal1)\n",
    "    semifinal2 = matchup('Eric', quarterfinal2)\n",
    "    \n",
    "\n",
    "    final = matchup(semifinal1, semifinal2)\n",
    "    \n",
    "    return final \n",
    "    "
   ]
  },
  {
   "cell_type": "code",
   "execution_count": 232,
   "metadata": {
    "ExecuteTime": {
     "end_time": "2020-12-07T18:31:50.854496Z",
     "start_time": "2020-12-07T18:31:44.510670Z"
    }
   },
   "outputs": [],
   "source": [
    "wins = []\n",
    "\n",
    "for i in range(200000):\n",
    "    wins.append(simulate())"
   ]
  },
  {
   "cell_type": "code",
   "execution_count": 233,
   "metadata": {
    "ExecuteTime": {
     "end_time": "2020-12-07T18:31:51.427137Z",
     "start_time": "2020-12-07T18:31:51.381382Z"
    }
   },
   "outputs": [],
   "source": [
    "percents = pd.Series(wins).value_counts(normalize=True, \n",
    "                                        sort=True, \n",
    "                                        ascending=False, \n",
    "                                        bins=None, \n",
    "                                        dropna=True\n",
    "                                       )"
   ]
  },
  {
   "cell_type": "code",
   "execution_count": 234,
   "metadata": {
    "ExecuteTime": {
     "end_time": "2020-12-07T18:31:52.291886Z",
     "start_time": "2020-12-07T18:31:52.192447Z"
    }
   },
   "outputs": [
    {
     "data": {
      "text/html": [
       "<div>\n",
       "<style scoped>\n",
       "    .dataframe tbody tr th:only-of-type {\n",
       "        vertical-align: middle;\n",
       "    }\n",
       "\n",
       "    .dataframe tbody tr th {\n",
       "        vertical-align: top;\n",
       "    }\n",
       "\n",
       "    .dataframe thead th {\n",
       "        text-align: right;\n",
       "    }\n",
       "</style>\n",
       "<table border=\"1\" class=\"dataframe\">\n",
       "  <thead>\n",
       "    <tr style=\"text-align: right;\">\n",
       "      <th></th>\n",
       "      <th>index</th>\n",
       "      <th>Win Probability</th>\n",
       "    </tr>\n",
       "  </thead>\n",
       "  <tbody>\n",
       "    <tr>\n",
       "      <th>0</th>\n",
       "      <td>Quinn</td>\n",
       "      <td>0.417445</td>\n",
       "    </tr>\n",
       "    <tr>\n",
       "      <th>1</th>\n",
       "      <td>Nate</td>\n",
       "      <td>0.170540</td>\n",
       "    </tr>\n",
       "    <tr>\n",
       "      <th>2</th>\n",
       "      <td>Lo</td>\n",
       "      <td>0.155840</td>\n",
       "    </tr>\n",
       "    <tr>\n",
       "      <th>3</th>\n",
       "      <td>Eric</td>\n",
       "      <td>0.143310</td>\n",
       "    </tr>\n",
       "    <tr>\n",
       "      <th>4</th>\n",
       "      <td>Nick</td>\n",
       "      <td>0.112440</td>\n",
       "    </tr>\n",
       "  </tbody>\n",
       "</table>\n",
       "</div>"
      ],
      "text/plain": [
       "   index  Win Probability\n",
       "0  Quinn         0.417445\n",
       "1   Nate         0.170540\n",
       "2     Lo         0.155840\n",
       "3   Eric         0.143310\n",
       "4   Nick         0.112440"
      ]
     },
     "execution_count": 234,
     "metadata": {},
     "output_type": "execute_result"
    }
   ],
   "source": [
    "percent_df = pd.DataFrame(percents, columns=['Win Probability']).reset_index()\n",
    "percent_df.head()"
   ]
  },
  {
   "cell_type": "code",
   "execution_count": 235,
   "metadata": {
    "ExecuteTime": {
     "end_time": "2020-12-07T18:31:53.192480Z",
     "start_time": "2020-12-07T18:31:53.061211Z"
    }
   },
   "outputs": [
    {
     "name": "stdout",
     "output_type": "stream",
     "text": [
      "0.417445\n",
      "0.17054\n",
      "0.15584\n",
      "0.14331\n",
      "0.11244\n",
      "0.000425\n"
     ]
    }
   ],
   "source": [
    "for i, row in percent_df.iterrows():\n",
    "    print(row[1])"
   ]
  },
  {
   "cell_type": "code",
   "execution_count": 239,
   "metadata": {
    "ExecuteTime": {
     "end_time": "2020-12-07T18:35:07.360035Z",
     "start_time": "2020-12-07T18:35:07.136842Z"
    }
   },
   "outputs": [
    {
     "data": {
      "image/png": "[encoded data removed]",
      "text/plain": [
       "<matplotlib.figure.Figure at 0x1205843c8>"
      ]
     },
     "metadata": {},
     "output_type": "display_data"
    }
   ],
   "source": [
    "sns.set_style(\"whitegrid\")\n",
    "sns.set_palette(sns.color_palette(\"coolwarm\"))\n",
    "\n",
    "plt.figure(figsize=(10, 6))\n",
    "sns.barplot(percent_df.index, percent_df['Win Probability'])\n",
    "\n",
    "for i, row in percent_df.iterrows():\n",
    "    plt.text(  i\n",
    "             , row[1]+.01\n",
    "             , s=\"{:.2%}\".format(round(row[1], 5))\n",
    "             , color='black'\n",
    "             , ha=\"center\"\n",
    "             , fontsize=11\n",
    "            )\n",
    "    \n",
    "plt.xticks(range(6), percent_df['index'], fontsize=12)\n",
    "plt.yticks(fontsize=12)\n",
    "plt.title('Probability of Winning the League (200k simulations)', fontsize=16)\n",
    "plt.ylabel('Win Probability', fontsize=14)\n",
    "plt.xlabel('Team', fontsize=14)\n",
    "plt.ylim(0, .5)\n",
    "plt.show()"
   ]
  },
  {
   "cell_type": "markdown",
   "metadata": {},
   "source": [
    "# Lo's League"
   ]
  },
  {
   "cell_type": "code",
   "execution_count": 122,
   "metadata": {
    "ExecuteTime": {
     "end_time": "2020-12-07T16:51:01.755495Z",
     "start_time": "2020-12-07T16:51:01.725592Z"
    }
   },
   "outputs": [
    {
     "data": {
      "text/html": [
       "<div>\n",
       "<style scoped>\n",
       "    .dataframe tbody tr th:only-of-type {\n",
       "        vertical-align: middle;\n",
       "    }\n",
       "\n",
       "    .dataframe tbody tr th {\n",
       "        vertical-align: top;\n",
       "    }\n",
       "\n",
       "    .dataframe thead th {\n",
       "        text-align: right;\n",
       "    }\n",
       "</style>\n",
       "<table border=\"1\" class=\"dataframe\">\n",
       "  <thead>\n",
       "    <tr style=\"text-align: right;\">\n",
       "      <th></th>\n",
       "      <th>Week</th>\n",
       "      <th>Lo</th>\n",
       "      <th>Dylan</th>\n",
       "      <th>Krieger</th>\n",
       "      <th>North</th>\n",
       "      <th>Jake</th>\n",
       "      <th>Peter</th>\n",
       "    </tr>\n",
       "  </thead>\n",
       "  <tbody>\n",
       "    <tr>\n",
       "      <th>0</th>\n",
       "      <td>1</td>\n",
       "      <td>122.30</td>\n",
       "      <td>112.52</td>\n",
       "      <td>140.43</td>\n",
       "      <td>139.35</td>\n",
       "      <td>160.46</td>\n",
       "      <td>128.57</td>\n",
       "    </tr>\n",
       "    <tr>\n",
       "      <th>1</th>\n",
       "      <td>2</td>\n",
       "      <td>127.97</td>\n",
       "      <td>185.27</td>\n",
       "      <td>136.18</td>\n",
       "      <td>112.72</td>\n",
       "      <td>135.42</td>\n",
       "      <td>150.83</td>\n",
       "    </tr>\n",
       "    <tr>\n",
       "      <th>2</th>\n",
       "      <td>3</td>\n",
       "      <td>120.95</td>\n",
       "      <td>142.90</td>\n",
       "      <td>132.99</td>\n",
       "      <td>138.84</td>\n",
       "      <td>135.60</td>\n",
       "      <td>149.92</td>\n",
       "    </tr>\n",
       "    <tr>\n",
       "      <th>3</th>\n",
       "      <td>4</td>\n",
       "      <td>148.92</td>\n",
       "      <td>128.33</td>\n",
       "      <td>117.07</td>\n",
       "      <td>130.11</td>\n",
       "      <td>88.51</td>\n",
       "      <td>105.91</td>\n",
       "    </tr>\n",
       "    <tr>\n",
       "      <th>4</th>\n",
       "      <td>5</td>\n",
       "      <td>106.56</td>\n",
       "      <td>152.82</td>\n",
       "      <td>86.75</td>\n",
       "      <td>133.35</td>\n",
       "      <td>117.19</td>\n",
       "      <td>145.01</td>\n",
       "    </tr>\n",
       "  </tbody>\n",
       "</table>\n",
       "</div>"
      ],
      "text/plain": [
       "   Week      Lo   Dylan  Krieger   North    Jake   Peter\n",
       "0     1  122.30  112.52   140.43  139.35  160.46  128.57\n",
       "1     2  127.97  185.27   136.18  112.72  135.42  150.83\n",
       "2     3  120.95  142.90   132.99  138.84  135.60  149.92\n",
       "3     4  148.92  128.33   117.07  130.11   88.51  105.91\n",
       "4     5  106.56  152.82    86.75  133.35  117.19  145.01"
      ]
     },
     "execution_count": 122,
     "metadata": {},
     "output_type": "execute_result"
    }
   ],
   "source": [
    "df = pd.read_csv('lo_fantasy.csv')\n",
    "df = df[df.Week>=8]\n",
    "df.head()"
   ]
  },
  {
   "cell_type": "code",
   "execution_count": 123,
   "metadata": {
    "ExecuteTime": {
     "end_time": "2020-12-07T16:51:02.115383Z",
     "start_time": "2020-12-07T16:51:02.032485Z"
    },
    "collapsed": true
   },
   "outputs": [],
   "source": [
    "players = {\n",
    "    'Lo': {'mean_score':df['Lo'].mean()\n",
    "            ,'stdev_score':df['Lo'].std()},\n",
    "    'Dylan': {'mean_score':df['Dylan'].mean()\n",
    "            ,'stdev_score':df['Dylan'].std()},\n",
    "    'Krieger': {'mean_score':df['Krieger'].mean()\n",
    "            ,'stdev_score':df['Krieger'].std()},\n",
    "    'North': {'mean_score':df['North'].mean()\n",
    "            ,'stdev_score':df['North'].std()},\n",
    "    'Jake': {'mean_score':df['Jake'].mean()\n",
    "            ,'stdev_score':df['Jake'].std()},\n",
    "    'Peter': {'mean_score':df['Peter'].mean()\n",
    "            ,'stdev_score':df['Peter'].std()},\n",
    "}"
   ]
  },
  {
   "cell_type": "code",
   "execution_count": 124,
   "metadata": {
    "ExecuteTime": {
     "end_time": "2020-12-07T16:51:02.465650Z",
     "start_time": "2020-12-07T16:51:02.450871Z"
    },
    "collapsed": true
   },
   "outputs": [],
   "source": [
    "def simulate():\n",
    "    \n",
    "    quarterfinal1 = matchup('Lo', 'Peter')\n",
    "    quarterfinal2 = matchup('Krieger', 'North')\n",
    "\n",
    "    \n",
    "    semifinal1 = matchup('Dylan', quarterfinal1)\n",
    "    semifinal2 = matchup('Jake', quarterfinal2)\n",
    "    \n",
    "\n",
    "    final = matchup(semifinal1, semifinal2)\n",
    "    \n",
    "    return final \n",
    "    "
   ]
  },
  {
   "cell_type": "code",
   "execution_count": 125,
   "metadata": {
    "ExecuteTime": {
     "end_time": "2020-12-07T16:51:05.856087Z",
     "start_time": "2020-12-07T16:51:02.772861Z"
    }
   },
   "outputs": [],
   "source": [
    "wins = []\n",
    "\n",
    "for i in range(100000):\n",
    "    wins.append(simulate())"
   ]
  },
  {
   "cell_type": "code",
   "execution_count": 126,
   "metadata": {
    "ExecuteTime": {
     "end_time": "2020-12-07T16:51:06.141350Z",
     "start_time": "2020-12-07T16:51:06.027619Z"
    }
   },
   "outputs": [
    {
     "data": {
      "text/plain": [
       "Dylan      0.37011\n",
       "Jake       0.20275\n",
       "Peter      0.11608\n",
       "North      0.10708\n",
       "Lo         0.10584\n",
       "Krieger    0.09814\n",
       "dtype: float64"
      ]
     },
     "execution_count": 126,
     "metadata": {},
     "output_type": "execute_result"
    }
   ],
   "source": [
    "percents = pd.Series(wins).value_counts(normalize=True, \n",
    "                                        sort=True, \n",
    "                                        ascending=False, \n",
    "                                        bins=None, \n",
    "                                        dropna=True\n",
    "                                       )\n",
    "\n",
    "percents"
   ]
  },
  {
   "cell_type": "markdown",
   "metadata": {},
   "source": [
    "# DKE League"
   ]
  },
  {
   "cell_type": "code",
   "execution_count": null,
   "metadata": {
    "collapsed": true
   },
   "outputs": [],
   "source": []
  }
 ],
 "metadata": {
  "kernelspec": {
   "display_name": "Python 3",
   "language": "python",
   "name": "python3"
  },
  "language_info": {
   "codemirror_mode": {
    "name": "ipython",
    "version": 3
   },
   "file_extension": ".py",
   "mimetype": "text/x-python",
   "name": "python",
   "nbconvert_exporter": "python",
   "pygments_lexer": "ipython3",
   "version": "3.6.3"
  },
  "varInspector": {
   "cols": {
    "lenName": 16,
    "lenType": 16,
    "lenVar": 40
   },
   "kernels_config": {
    "python": {
     "delete_cmd_postfix": "",
     "delete_cmd_prefix": "del ",
     "library": "var_list.py",
     "varRefreshCmd": "print(var_dic_list())"
    },
    "r": {
     "delete_cmd_postfix": ") ",
     "delete_cmd_prefix": "rm(",
     "library": "var_list.r",
     "varRefreshCmd": "cat(var_dic_list()) "
    }
   },
   "types_to_exclude": [
    "module",
    "function",
    "builtin_function_or_method",
    "instance",
    "_Feature"
   ],
   "window_display": false
  }
 },
 "nbformat": 4,
 "nbformat_minor": 2
}
